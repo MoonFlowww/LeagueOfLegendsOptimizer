{
 "cells": [
  {
   "cell_type": "code",
   "execution_count": 24,
   "metadata": {},
   "outputs": [],
   "source": [
    "import requests\n",
    "import os\n",
    "\n",
    "owner = \"InFinity54\"\n",
    "repo = \"LoL_DDragon\"\n",
    "folder_path = \"latest/data/en_US\"\n",
    "branch = \"master\"\n",
    "\n",
    "destination = os.path.join(\"//Users//fiorillohugo//Downloads\", folder_path)\n",
    "\n",
    "api_url = f\"https://api.github.com/repos/{owner}/{repo}/contents/{folder_path}?ref={branch}\"\n",
    "response = requests.get(api_url)\n",
    "\n",
    "if response.status_code == 200:\n",
    "    files = response.json()\n",
    "    os.makedirs(destination, exist_ok=True)\n",
    "    for file in files:\n",
    "        if file[\"type\"] == \"file\":\n",
    "            file_url = file[\"download_url\"]\n",
    "            file_name = file[\"name\"]\n",
    "            file_response = requests.get(file_url)\n",
    "            with open(os.path.join(destination, file_name), \"wb\") as f:\n",
    "                f.write(file_response.content)\n",
    "else:\n",
    "    print(\"Error:\", response.status_code, response.text)\n"
   ]
  },
  {
   "cell_type": "code",
   "execution_count": 33,
   "metadata": {},
   "outputs": [],
   "source": [
    "import json\n",
    "import matplotlib.pyplot as plt"
   ]
  },
  {
   "cell_type": "code",
   "execution_count": 34,
   "metadata": {},
   "outputs": [],
   "source": [
    "\n",
    "path = \"/Users/fiorillohugo/Downloads/latest/data/en_US/item.json\"\n",
    "with open(path, \"r\", encoding=\"utf-8\") as file:\n",
    "    data = json.load(file)\n",
    "\n",
    "data = data.get(\"data\", {})\n",
    "#print(json.dumps(data, indent=4))"
   ]
  },
  {
   "cell_type": "code",
   "execution_count": 35,
   "metadata": {},
   "outputs": [],
   "source": [
    "def plot_champion_stats(stats, log=False):\n",
    "    \n",
    "    \n",
    "    levels = range(1, 19)\n",
    "    \n",
    "    hp_values = [stats[\"hp\"] + stats[\"hpperlevel\"] * (lvl - 1) for lvl in levels]\n",
    "    mp_values = [stats[\"mp\"] + stats[\"mpperlevel\"] * (lvl - 1) for lvl in levels]\n",
    "    armor_values = [stats[\"armor\"] + stats[\"armorperlevel\"] * (lvl - 1) for lvl in levels]\n",
    "    spell_block_values = [stats[\"spellblock\"] + stats[\"spellblockperlevel\"] * (lvl - 1) for lvl in levels]\n",
    "    attack_damage_values = [stats[\"attackdamage\"] + stats[\"attackdamageperlevel\"] * (lvl - 1) for lvl in levels]\n",
    "    \n",
    "    base_as = stats[\"attackspeed\"]\n",
    "    as_scaling = stats[\"attackspeedperlevel\"] / 100\n",
    "    attack_speed_values = [base_as * (1 + as_scaling * (lvl - 1)) for lvl in levels]\n",
    "    \n",
    "    plt.figure(figsize=(10, 6))\n",
    "    \n",
    "    if(log):\n",
    "        plt.yscale('symlog') #'linear', 'log', 'symlog', 'asinh', 'logit', 'function', 'functionlog'\n",
    "    \n",
    "    plt.xticks(levels)\n",
    "\n",
    "    plt.plot(levels, hp_values, label=\"HP\")\n",
    "    plt.plot(levels, mp_values, label=\"MP\")\n",
    "    plt.plot(levels, armor_values, label=\"Armor\")\n",
    "    plt.plot(levels, spell_block_values, label=\"Spell Block\")\n",
    "    plt.plot(levels, attack_damage_values, label=\"Attack Damage\")\n",
    "    plt.plot(levels, attack_speed_values, label=\"Attack Speed\")\n",
    "\n",
    "    \n",
    "\n",
    "    plt.xlabel(\"Level\")\n",
    "    plt.ylabel(\"Value\")\n",
    "    plt.title(\"Champion Stats Evolution\")\n",
    "    plt.legend()\n",
    "    plt.show()\n"
   ]
  },
  {
   "cell_type": "code",
   "execution_count": 36,
   "metadata": {},
   "outputs": [],
   "source": [
    "def research(type=1, object_name=\"Lux\", info=\"all\", verbose_champ=False, verbose_info=False):\n",
    "    \n",
    "    if(type==1):\n",
    "        path = \"/Users/fiorillohugo/Downloads/latest/data/en_US/championFull.json\"\n",
    "    else:\n",
    "        path = \"/Users/fiorillohugo/Downloads/latest/data/en_US/item.json\"\n",
    "    with open(path, \"r\", encoding=\"utf-8\") as file:\n",
    "        data = json.load(file)\n",
    "\n",
    "    data = data.get(\"data\", {})\n",
    "    if(info == \"all\"):\n",
    "        return data\n",
    "    \n",
    "    \n",
    "    object_info = data.get(object_name)\n",
    "    if(verbose_champ):\n",
    "        print(json.dumps(object_info, indent=4))\n",
    "\n",
    "    if(info == \"none\"):\n",
    "        return object_info\n",
    "    \n",
    "    \n",
    "    object_detail_info = object_info.get(info)\n",
    "    if(verbose_info):\n",
    "        print(json.dumps(object_detail_info, indent=4))\n",
    "\n",
    "    return object_detail_info\n",
    "\n"
   ]
  },
  {
   "cell_type": "code",
   "execution_count": 37,
   "metadata": {},
   "outputs": [
    {
     "name": "stdout",
     "output_type": "stream",
     "text": [
      "{\n",
      "    \"hp\": 656,\n",
      "    \"hpperlevel\": 115,\n",
      "    \"mp\": 350,\n",
      "    \"mpperlevel\": 50,\n",
      "    \"movespeed\": 350,\n",
      "    \"armor\": 35,\n",
      "    \"armorperlevel\": 5,\n",
      "    \"spellblock\": 32,\n",
      "    \"spellblockperlevel\": 2.05,\n",
      "    \"attackrange\": 125,\n",
      "    \"hpregen\": 9.5,\n",
      "    \"hpregenperlevel\": 0.8,\n",
      "    \"mpregen\": 7.5,\n",
      "    \"mpregenperlevel\": 0.75,\n",
      "    \"crit\": 0,\n",
      "    \"critperlevel\": 0,\n",
      "    \"attackdamage\": 65,\n",
      "    \"attackdamageperlevel\": 5,\n",
      "    \"attackspeedperlevel\": 2.5,\n",
      "    \"attackspeed\": 0.625\n",
      "}\n"
     ]
    },
    {
     "data": {
      "image/png": "[encoded data removed]",
      "text/plain": [
       "<Figure size 1000x600 with 1 Axes>"
      ]
     },
     "metadata": {},
     "output_type": "display_data"
    }
   ],
   "source": [
    "A = research(1, \"Illaoi\", \"stats\", False, True)        #research(2, \"3053\", \"stats\", True, True)\n",
    "plot_champion_stats(A, False)"
   ]
  },
  {
   "cell_type": "code",
   "execution_count": 38,
   "metadata": {},
   "outputs": [
    {
     "name": "stdout",
     "output_type": "stream",
     "text": [
      "{'stats_block': {'health': '400', 'tenacity': '20%'}, 'parsed_description': {'grants': ['30%'], 'seconds': ['4.5']}}\n"
     ]
    }
   ],
   "source": [
    "import re\n",
    "\n",
    "def parse_item_for_quant_analysis(item_data):\n",
    "    description = item_data.get(\"description\", \"\")\n",
    "\n",
    "    # Extract numeric stats within <stats>...</stats>\n",
    "    stats_pattern = r\"<stats>(.*?)</stats>\"\n",
    "    stats_match = re.search(stats_pattern, description, flags=re.DOTALL)\n",
    "    stats_dict = {}\n",
    "    if stats_match:\n",
    "        stats_block = stats_match.group(1)\n",
    "        for line in stats_block.split(\"<br>\"):\n",
    "            line_clean = re.sub(r\"<.*?>\", \"\", line).strip()\n",
    "            match = re.match(r\"^(\\d+(?:\\.\\d+)?%?)\\s+(.*)$\", line_clean)\n",
    "            if match:\n",
    "                val, key = match.groups()\n",
    "                stats_dict[key.lower()] = val\n",
    "\n",
    "    # Remove <stats> block and remaining tags for further analysis\n",
    "    desc_no_stats = re.sub(stats_pattern, \"\", description, flags=re.DOTALL)\n",
    "    desc_no_stats = re.sub(r\"<.*?>\", \"\", desc_no_stats)\n",
    "\n",
    "    pattern = r\"(\\d+(?:\\.\\d+)?%?)\\s+([A-Za-z%]+)\"\n",
    "    matches = re.findall(pattern, desc_no_stats)\n",
    "    extra_data = {}\n",
    "    for value, label in matches:\n",
    "        label = label.lower()\n",
    "        if label not in extra_data:\n",
    "            extra_data[label] = []\n",
    "        extra_data[label].append(value)\n",
    "\n",
    "    return {\n",
    "        \"stats_block\": stats_dict,\n",
    "        \"parsed_description\": extra_data\n",
    "    }\n",
    "\n",
    "if __name__ == \"__main__\":\n",
    "    item_data_example = {\n",
    "        \"name\": \"Sterak's Gage\",\n",
    "        \"description\": (\n",
    "            \"<mainText><stats><attention>400</attention> Health<br>\"\n",
    "            \"<attention>20%</attention> Tenacity</stats><br><br>\"\n",
    "            \"<passive>The Claws that Catch</passive><br>\"\n",
    "            \"Gain <scaleAD>bonus Attack Damage</scaleAD>.<br><br>\"\n",
    "            \"<passive>Lifeline</passive><br>\"\n",
    "            \"Taking damage that would reduce your Health below 30% grants a \"\n",
    "            \"<shield>decaying Shield</shield> for 4.5 seconds.</mainText>\"\n",
    "        )\n",
    "    }\n",
    "    \n",
    "    result = parse_item_for_quant_analysis(item_data_example)\n",
    "    print(result)\n"
   ]
  },
  {
   "cell_type": "code",
   "execution_count": 39,
   "metadata": {},
   "outputs": [],
   "source": [
    "import json\n",
    "\n",
    "def load_data(type):\n",
    "    if type == 1:\n",
    "        path = \"/Users/fiorillohugo/Downloads/latest/data/en_US/championFull.json\"\n",
    "    else:\n",
    "        path = \"/Users/fiorillohugo/Downloads/latest/data/en_US/item.json\"\n",
    "    \n",
    "    with open(path, 'r') as file:\n",
    "        data = json.load(file)\n",
    "    return data\n",
    "\n",
    "champion_data = load_data(1)\n",
    "item_data = load_data(2)"
   ]
  },
  {
   "cell_type": "code",
   "execution_count": 40,
   "metadata": {},
   "outputs": [],
   "source": [
    "class Champion:\n",
    "    def __init__(self, champion_json):\n",
    "        self.name = champion_json['name']\n",
    "        self.stats = champion_json['stats']\n",
    "        self.spells = champion_json['spells']\n",
    "        self.passive = champion_json['passive']\n",
    "    \n",
    "    def get_stat(self, stat_name):\n",
    "        return self.stats.get(stat_name, 0)\n",
    "\n",
    "class Item:\n",
    "    def __init__(self, item_json):\n",
    "        self.name = item_json['name']\n",
    "        self.stats = item_json['stats']\n",
    "    \n",
    "    def get_stat(self, stat_name):\n",
    "        return self.stats.get(stat_name, 0)"
   ]
  },
  {
   "cell_type": "code",
   "execution_count": 41,
   "metadata": {},
   "outputs": [],
   "source": [
    "def filter_items(items_data):\n",
    "    legendary_items = []\n",
    "    boots = []\n",
    "    \n",
    "    for item in items_data.values():\n",
    "        if item.get('depth', 0) >= 2:\n",
    "            legendary_items.append(Item(item))\n",
    "        elif 'Boots' in item.get('name', ''):\n",
    "            boots.append(Item(item))\n",
    "    \n",
    "    return legendary_items, boots"
   ]
  },
  {
   "cell_type": "code",
   "execution_count": 42,
   "metadata": {},
   "outputs": [],
   "source": [
    "def calculate_damage(champion, item, opponent):\n",
    "    base_damage = champion.get_stat('attackdamage') + item.get_stat('FlatPhysicalDamageMod')\n",
    "    return base_damage\n",
    "\n",
    "def calculate_ttk(champion, items, opponent):\n",
    "    total_damage = sum(calculate_damage(champion, item, opponent) for item in items)\n",
    "    opponent_hp = opponent.get_stat('hp')\n",
    "    return opponent_hp / total_damage\n",
    "\n",
    "def calculate_ttl(champion, items, opponent):\n",
    "    total_damage = sum(calculate_damage(opponent, item, champion) for item in items)\n",
    "    champion_hp = champion.get_stat('hp')\n",
    "    return champion_hp / total_damage"
   ]
  },
  {
   "cell_type": "code",
   "execution_count": 43,
   "metadata": {},
   "outputs": [],
   "source": [
    "from itertools import combinations\n",
    "\n",
    "def optimize_build(champion, opponent, legendary_items, boots):\n",
    "    best_build = []\n",
    "    best_ttk = float('inf')\n",
    "    \n",
    "    # Try all combinations of 5 legendary items and 1 pair of boots\n",
    "    for legendary_combo in combinations(legendary_items, 5):\n",
    "        for boot in boots:\n",
    "            items = list(legendary_combo) + [boot]\n",
    "            ttk = calculate_ttk(champion, items, opponent)\n",
    "            ttl = calculate_ttl(champion, items, opponent)\n",
    "            \n",
    "            if ttk < best_ttk and ttl > ttk:\n",
    "                best_ttk = ttk\n",
    "                best_build = items\n",
    "    \n",
    "    return best_build"
   ]
  },
  {
   "cell_type": "code",
   "execution_count": null,
   "metadata": {},
   "outputs": [
    {
     "ename": "KeyboardInterrupt",
     "evalue": "",
     "output_type": "error",
     "traceback": [
      "\u001b[0;31m---------------------------------------------------------------------------\u001b[0m",
      "\u001b[0;31mKeyboardInterrupt\u001b[0m                         Traceback (most recent call last)",
      "Cell \u001b[0;32mIn[32], line 20\u001b[0m\n\u001b[1;32m     17\u001b[0m     \u001b[38;5;28mprint\u001b[39m(\u001b[38;5;124m\"\u001b[39m\u001b[38;5;124mBest Build:\u001b[39m\u001b[38;5;124m\"\u001b[39m, [item\u001b[38;5;241m.\u001b[39mname \u001b[38;5;28;01mfor\u001b[39;00m item \u001b[38;5;129;01min\u001b[39;00m best_build])\n\u001b[1;32m     19\u001b[0m \u001b[38;5;28;01mif\u001b[39;00m \u001b[38;5;18m__name__\u001b[39m \u001b[38;5;241m==\u001b[39m \u001b[38;5;124m\"\u001b[39m\u001b[38;5;124m__main__\u001b[39m\u001b[38;5;124m\"\u001b[39m:\n\u001b[0;32m---> 20\u001b[0m     \u001b[43mmain\u001b[49m\u001b[43m(\u001b[49m\u001b[43m)\u001b[49m\n",
      "Cell \u001b[0;32mIn[32], line 15\u001b[0m, in \u001b[0;36mmain\u001b[0;34m()\u001b[0m\n\u001b[1;32m     12\u001b[0m opponent \u001b[38;5;241m=\u001b[39m Champion(opponent_json)\n\u001b[1;32m     14\u001b[0m \u001b[38;5;66;03m# Optimize build\u001b[39;00m\n\u001b[0;32m---> 15\u001b[0m best_build \u001b[38;5;241m=\u001b[39m \u001b[43moptimize_build\u001b[49m\u001b[43m(\u001b[49m\u001b[43mchampion\u001b[49m\u001b[43m,\u001b[49m\u001b[43m \u001b[49m\u001b[43mopponent\u001b[49m\u001b[43m,\u001b[49m\u001b[43m \u001b[49m\u001b[43mlegendary_items\u001b[49m\u001b[43m,\u001b[49m\u001b[43m \u001b[49m\u001b[43mboots\u001b[49m\u001b[43m)\u001b[49m\n\u001b[1;32m     17\u001b[0m \u001b[38;5;28mprint\u001b[39m(\u001b[38;5;124m\"\u001b[39m\u001b[38;5;124mBest Build:\u001b[39m\u001b[38;5;124m\"\u001b[39m, [item\u001b[38;5;241m.\u001b[39mname \u001b[38;5;28;01mfor\u001b[39;00m item \u001b[38;5;129;01min\u001b[39;00m best_build])\n",
      "Cell \u001b[0;32mIn[31], line 11\u001b[0m, in \u001b[0;36moptimize_build\u001b[0;34m(champion, opponent, legendary_items, boots)\u001b[0m\n\u001b[1;32m      9\u001b[0m \u001b[38;5;28;01mfor\u001b[39;00m boot \u001b[38;5;129;01min\u001b[39;00m boots:\n\u001b[1;32m     10\u001b[0m     items \u001b[38;5;241m=\u001b[39m \u001b[38;5;28mlist\u001b[39m(legendary_combo) \u001b[38;5;241m+\u001b[39m [boot]\n\u001b[0;32m---> 11\u001b[0m     ttk \u001b[38;5;241m=\u001b[39m \u001b[43mcalculate_ttk\u001b[49m\u001b[43m(\u001b[49m\u001b[43mchampion\u001b[49m\u001b[43m,\u001b[49m\u001b[43m \u001b[49m\u001b[43mitems\u001b[49m\u001b[43m,\u001b[49m\u001b[43m \u001b[49m\u001b[43mopponent\u001b[49m\u001b[43m)\u001b[49m\n\u001b[1;32m     12\u001b[0m     ttl \u001b[38;5;241m=\u001b[39m calculate_ttl(champion, items, opponent)\n\u001b[1;32m     14\u001b[0m     \u001b[38;5;28;01mif\u001b[39;00m ttk \u001b[38;5;241m<\u001b[39m best_ttk \u001b[38;5;129;01mand\u001b[39;00m ttl \u001b[38;5;241m>\u001b[39m ttk:\n",
      "Cell \u001b[0;32mIn[30], line 7\u001b[0m, in \u001b[0;36mcalculate_ttk\u001b[0;34m(champion, items, opponent)\u001b[0m\n\u001b[1;32m      6\u001b[0m \u001b[38;5;28;01mdef\u001b[39;00m \u001b[38;5;21mcalculate_ttk\u001b[39m(champion, items, opponent):\n\u001b[0;32m----> 7\u001b[0m     total_damage \u001b[38;5;241m=\u001b[39m \u001b[38;5;28msum\u001b[39m(calculate_damage(champion, item, opponent) \u001b[38;5;28;01mfor\u001b[39;00m item \u001b[38;5;129;01min\u001b[39;00m items)\n\u001b[1;32m      8\u001b[0m     opponent_hp \u001b[38;5;241m=\u001b[39m opponent\u001b[38;5;241m.\u001b[39mget_stat(\u001b[38;5;124m'\u001b[39m\u001b[38;5;124mhp\u001b[39m\u001b[38;5;124m'\u001b[39m)\n\u001b[1;32m      9\u001b[0m     \u001b[38;5;28;01mreturn\u001b[39;00m opponent_hp \u001b[38;5;241m/\u001b[39m total_damage\n",
      "Cell \u001b[0;32mIn[30], line 7\u001b[0m, in \u001b[0;36m<genexpr>\u001b[0;34m(.0)\u001b[0m\n\u001b[1;32m      6\u001b[0m \u001b[38;5;28;01mdef\u001b[39;00m \u001b[38;5;21mcalculate_ttk\u001b[39m(champion, items, opponent):\n\u001b[0;32m----> 7\u001b[0m     total_damage \u001b[38;5;241m=\u001b[39m \u001b[38;5;28msum\u001b[39m(\u001b[43mcalculate_damage\u001b[49m\u001b[43m(\u001b[49m\u001b[43mchampion\u001b[49m\u001b[43m,\u001b[49m\u001b[43m \u001b[49m\u001b[43mitem\u001b[49m\u001b[43m,\u001b[49m\u001b[43m \u001b[49m\u001b[43mopponent\u001b[49m\u001b[43m)\u001b[49m \u001b[38;5;28;01mfor\u001b[39;00m item \u001b[38;5;129;01min\u001b[39;00m items)\n\u001b[1;32m      8\u001b[0m     opponent_hp \u001b[38;5;241m=\u001b[39m opponent\u001b[38;5;241m.\u001b[39mget_stat(\u001b[38;5;124m'\u001b[39m\u001b[38;5;124mhp\u001b[39m\u001b[38;5;124m'\u001b[39m)\n\u001b[1;32m      9\u001b[0m     \u001b[38;5;28;01mreturn\u001b[39;00m opponent_hp \u001b[38;5;241m/\u001b[39m total_damage\n",
      "Cell \u001b[0;32mIn[30], line 3\u001b[0m, in \u001b[0;36mcalculate_damage\u001b[0;34m(champion, item, opponent)\u001b[0m\n\u001b[1;32m      1\u001b[0m \u001b[38;5;28;01mdef\u001b[39;00m \u001b[38;5;21mcalculate_damage\u001b[39m(champion, item, opponent):\n\u001b[1;32m      2\u001b[0m     \u001b[38;5;66;03m# Example: Calculate basic attack damage\u001b[39;00m\n\u001b[0;32m----> 3\u001b[0m     base_damage \u001b[38;5;241m=\u001b[39m \u001b[43mchampion\u001b[49m\u001b[38;5;241;43m.\u001b[39;49m\u001b[43mget_stat\u001b[49m\u001b[43m(\u001b[49m\u001b[38;5;124;43m'\u001b[39;49m\u001b[38;5;124;43mattackdamage\u001b[39;49m\u001b[38;5;124;43m'\u001b[39;49m\u001b[43m)\u001b[49m \u001b[38;5;241m+\u001b[39m item\u001b[38;5;241m.\u001b[39mget_stat(\u001b[38;5;124m'\u001b[39m\u001b[38;5;124mFlatPhysicalDamageMod\u001b[39m\u001b[38;5;124m'\u001b[39m)\n\u001b[1;32m      4\u001b[0m     \u001b[38;5;28;01mreturn\u001b[39;00m base_damage\n",
      "Cell \u001b[0;32mIn[28], line 9\u001b[0m, in \u001b[0;36mChampion.get_stat\u001b[0;34m(self, stat_name)\u001b[0m\n\u001b[1;32m      8\u001b[0m \u001b[38;5;28;01mdef\u001b[39;00m \u001b[38;5;21mget_stat\u001b[39m(\u001b[38;5;28mself\u001b[39m, stat_name):\n\u001b[0;32m----> 9\u001b[0m     \u001b[38;5;28;01mreturn\u001b[39;00m \u001b[38;5;28mself\u001b[39m\u001b[38;5;241m.\u001b[39mstats\u001b[38;5;241m.\u001b[39mget(stat_name, \u001b[38;5;241m0\u001b[39m)\n",
      "\u001b[0;31mKeyboardInterrupt\u001b[0m: "
     ]
    }
   ],
   "source": [
    "def main():\n",
    "    champion_json = champion_data['data']['Volibear']\n",
    "    opponent_json = champion_data['data']['Garen']  # Example opponent\n",
    "    items_data = item_data['data']\n",
    "    \n",
    "    # Filter items\n",
    "    legendary_items, boots = filter_items(items_data)\n",
    "    \n",
    "    champion = Champion(champion_json)\n",
    "    opponent = Champion(opponent_json)\n",
    "\n",
    "    best_build = optimize_build(champion, opponent, legendary_items, boots)\n",
    "    \n",
    "    print(\"Best Build:\", [item.name for item in best_build])\n",
    "\n",
    "if __name__ == \"__main__\":\n",
    "    main()"
   ]
  },
  {
   "cell_type": "code",
   "execution_count": null,
   "metadata": {},
   "outputs": [],
   "source": []
  }
 ],
 "metadata": {
  "kernelspec": {
   "display_name": "Python 3",
   "language": "python",
   "name": "python3"
  },
  "language_info": {
   "codemirror_mode": {
    "name": "ipython",
    "version": 3
   },
   "file_extension": ".py",
   "mimetype": "text/x-python",
   "name": "python",
   "nbconvert_exporter": "python",
   "pygments_lexer": "ipython3",
   "version": "3.11.9"
  }
 },
 "nbformat": 4,
 "nbformat_minor": 2
}
